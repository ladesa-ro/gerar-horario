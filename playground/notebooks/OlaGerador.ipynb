{
 "cells": [
  {
   "cell_type": "markdown",
   "id": "617ed7b2-355d-43f8-867b-a91648a9a61c",
   "metadata": {
    "jp-MarkdownHeadingCollapsed": true
   },
   "source": [
    "## Faz o build do projeto-gerar-horario;"
   ]
  },
  {
   "cell_type": "code",
   "execution_count": 1,
   "id": "b50a9f5d-c261-4500-8a58-e1dc1ba27c66",
   "metadata": {},
   "outputs": [
    {
     "data": {
      "text/html": [
       "\r\n",
       "<div>\r\n",
       "    <div id='dotnet-interactive-this-cell-697.Microsoft.DotNet.Interactive.Http.HttpPort' style='display: none'>\r\n",
       "        The below script needs to be able to find the current output cell; this is an easy method to get it.\r\n",
       "    </div>\r\n",
       "    <script type='text/javascript'>\r\n",
       "async function probeAddresses(probingAddresses) {\r\n",
       "    function timeout(ms, promise) {\r\n",
       "        return new Promise(function (resolve, reject) {\r\n",
       "            setTimeout(function () {\r\n",
       "                reject(new Error('timeout'))\r\n",
       "            }, ms)\r\n",
       "            promise.then(resolve, reject)\r\n",
       "        })\r\n",
       "    }\r\n",
       "\r\n",
       "    if (Array.isArray(probingAddresses)) {\r\n",
       "        for (let i = 0; i < probingAddresses.length; i++) {\r\n",
       "\r\n",
       "            let rootUrl = probingAddresses[i];\r\n",
       "\r\n",
       "            if (!rootUrl.endsWith('/')) {\r\n",
       "                rootUrl = `${rootUrl}/`;\r\n",
       "            }\r\n",
       "\r\n",
       "            try {\r\n",
       "                let response = await timeout(1000, fetch(`${rootUrl}discovery`, {\r\n",
       "                    method: 'POST',\r\n",
       "                    cache: 'no-cache',\r\n",
       "                    mode: 'cors',\r\n",
       "                    timeout: 1000,\r\n",
       "                    headers: {\r\n",
       "                        'Content-Type': 'text/plain'\r\n",
       "                    },\r\n",
       "                    body: probingAddresses[i]\r\n",
       "                }));\r\n",
       "\r\n",
       "                if (response.status == 200) {\r\n",
       "                    return rootUrl;\r\n",
       "                }\r\n",
       "            }\r\n",
       "            catch (e) { }\r\n",
       "        }\r\n",
       "    }\r\n",
       "}\r\n",
       "\r\n",
       "function loadDotnetInteractiveApi() {\r\n",
       "    probeAddresses([\"http://172.19.0.2:2048/\", \"http://127.0.0.1:2048/\"])\r\n",
       "        .then((root) => {\r\n",
       "        // use probing to find host url and api resources\r\n",
       "        // load interactive helpers and language services\r\n",
       "        let dotnetInteractiveRequire = require.config({\r\n",
       "        context: '697.Microsoft.DotNet.Interactive.Http.HttpPort',\r\n",
       "                paths:\r\n",
       "            {\r\n",
       "                'dotnet-interactive': `${root}resources`\r\n",
       "                }\r\n",
       "        }) || require;\r\n",
       "\r\n",
       "            window.dotnetInteractiveRequire = dotnetInteractiveRequire;\r\n",
       "\r\n",
       "            window.configureRequireFromExtension = function(extensionName, extensionCacheBuster) {\r\n",
       "                let paths = {};\r\n",
       "                paths[extensionName] = `${root}extensions/${extensionName}/resources/`;\r\n",
       "                \r\n",
       "                let internalRequire = require.config({\r\n",
       "                    context: extensionCacheBuster,\r\n",
       "                    paths: paths,\r\n",
       "                    urlArgs: `cacheBuster=${extensionCacheBuster}`\r\n",
       "                    }) || require;\r\n",
       "\r\n",
       "                return internalRequire\r\n",
       "            };\r\n",
       "        \r\n",
       "            dotnetInteractiveRequire([\r\n",
       "                    'dotnet-interactive/dotnet-interactive'\r\n",
       "                ],\r\n",
       "                function (dotnet) {\r\n",
       "                    dotnet.init(window);\r\n",
       "                },\r\n",
       "                function (error) {\r\n",
       "                    console.log(error);\r\n",
       "                }\r\n",
       "            );\r\n",
       "        })\r\n",
       "        .catch(error => {console.log(error);});\r\n",
       "    }\r\n",
       "\r\n",
       "// ensure `require` is available globally\r\n",
       "if ((typeof(require) !==  typeof(Function)) || (typeof(require.config) !== typeof(Function))) {\r\n",
       "    let require_script = document.createElement('script');\r\n",
       "    require_script.setAttribute('src', 'https://cdnjs.cloudflare.com/ajax/libs/require.js/2.3.6/require.min.js');\r\n",
       "    require_script.setAttribute('type', 'text/javascript');\r\n",
       "    \r\n",
       "    \r\n",
       "    require_script.onload = function() {\r\n",
       "        loadDotnetInteractiveApi();\r\n",
       "    };\r\n",
       "\r\n",
       "    document.getElementsByTagName('head')[0].appendChild(require_script);\r\n",
       "}\r\n",
       "else {\r\n",
       "    loadDotnetInteractiveApi();\r\n",
       "}\r\n",
       "\r\n",
       "    </script>\r\n",
       "</div>"
      ]
     },
     "metadata": {},
     "output_type": "display_data"
    },
    {
     "name": "stdout",
     "output_type": "stream",
     "text": [
      "MSBuild version 17.8.3+195e7f5a3 for .NET\n",
      "  Determining projects to restore...\n",
      "  All projects are up-to-date for restore.\n",
      "  GerarHorario -> /home/user/gerar-horario/projeto-gerar-horario/GerarHorario/bin/Debug/net8.0/GerarHorario.dll\n",
      "  GerarHorario-Tests -> /home/user/gerar-horario/projeto-gerar-horario/GerarHorario-Tests/bin/Debug/net8.0/GerarHorario-Tests.dll\n",
      "\n",
      "Build succeeded.\n",
      "    0 Warning(s)\n",
      "    0 Error(s)\n",
      "\n",
      "Time Elapsed 00:00:01.67\n"
     ]
    }
   ],
   "source": [
    "#!pwsh\n",
    "cd \"/home/user/gerar-horario/projeto-gerar-horario\";\n",
    "dotnet build;"
   ]
  },
  {
   "cell_type": "markdown",
   "id": "84c34044-82f5-432d-8dbe-ee8945343794",
   "metadata": {
    "jp-MarkdownHeadingCollapsed": true
   },
   "source": [
    "## Instala as dependências do projeto;"
   ]
  },
  {
   "cell_type": "code",
   "execution_count": null,
   "id": "6bc79f11-5d85-4350-afc4-02263594c016",
   "metadata": {},
   "outputs": [],
   "source": [
    "#r \"nuget: Google.OrTools,9.8.3296\""
   ]
  },
  {
   "cell_type": "markdown",
   "id": "3d315942-e4bd-420e-9a66-48c547d3ecbf",
   "metadata": {},
   "source": [
    "## Importa a lib GerarHorario;"
   ]
  },
  {
   "cell_type": "code",
   "execution_count": null,
   "id": "eb2599d7-7693-4ad7-8b7c-b3f8e49e23c5",
   "metadata": {},
   "outputs": [],
   "source": [
    "#r \"../../projeto-gerar-horario/GerarHorario/bin/Debug/net8.0/GerarHorario.dll\""
   ]
  },
  {
   "cell_type": "markdown",
   "id": "c4240d90-8dd1-4f83-89cc-6ef6d1099bcb",
   "metadata": {},
   "source": [
    "## Faz o uso do namespace Sisgea.GerarHorario.Core;"
   ]
  },
  {
   "cell_type": "code",
   "execution_count": null,
   "id": "b375596e-7023-4eb6-bf8b-dbace732afa8",
   "metadata": {},
   "outputs": [],
   "source": [
    "using Sisgea.GerarHorario.Core;"
   ]
  },
  {
   "cell_type": "markdown",
   "id": "c58aa995-8ad3-465b-9e03-af2ff50b4c1e",
   "metadata": {},
   "source": [
    "## \"Olá, Mundo!\" pq ninguem é de ferro ne"
   ]
  },
  {
   "cell_type": "code",
   "execution_count": null,
   "id": "0fee0429-ba2b-455a-966f-71b00ec3cb1e",
   "metadata": {},
   "outputs": [],
   "source": [
    "Console.WriteLine(\"Olá, Mundo!\");"
   ]
  },
  {
   "cell_type": "markdown",
   "id": "cda61c20-4b19-441c-8db6-119acf78eb32",
   "metadata": {},
   "source": [
    "## Felicidade :))"
   ]
  },
  {
   "cell_type": "code",
   "execution_count": null,
   "id": "a8c24654-2664-4cc0-8c0d-3cb22b94c5b8",
   "metadata": {},
   "outputs": [],
   "source": [
    "Console.WriteLine((new Main()).Retorno());"
   ]
  }
 ],
 "metadata": {
  "kernelspec": {
   "display_name": ".NET (C#)",
   "language": "C#",
   "name": ".net-csharp"
  },
  "language_info": {
   "file_extension": ".cs",
   "mimetype": "text/x-csharp",
   "name": "C#",
   "pygments_lexer": "csharp",
   "version": "12.0"
  }
 },
 "nbformat": 4,
 "nbformat_minor": 5
}
