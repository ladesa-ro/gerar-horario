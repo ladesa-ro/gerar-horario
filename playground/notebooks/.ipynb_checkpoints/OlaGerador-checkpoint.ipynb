{
 "cells": [
  {
   "cell_type": "markdown",
   "id": "c58aa995-8ad3-465b-9e03-af2ff50b4c1e",
   "metadata": {},
   "source": [
    "## \"Olá, Mundo!\" pq ninguem é de ferro ne"
   ]
  },
  {
   "cell_type": "code",
   "execution_count": null,
   "id": "0fee0429-ba2b-455a-966f-71b00ec3cb1e",
   "metadata": {},
   "outputs": [],
   "source": [
    "Console.WriteLine(\"Olá, Mundo!\");"
   ]
  },
  {
   "cell_type": "markdown",
   "id": "617ed7b2-355d-43f8-867b-a91648a9a61c",
   "metadata": {},
   "source": [
    "## Faz o build do projeto-gerar-horario;"
   ]
  },
  {
   "cell_type": "code",
   "execution_count": null,
   "id": "b50a9f5d-c261-4500-8a58-e1dc1ba27c66",
   "metadata": {},
   "outputs": [],
   "source": [
    "#!pwsh\n",
    "cd \"/home/user/gerar-horario/projeto-gerar-horario\";\n",
    "dotnet build;"
   ]
  },
  {
   "cell_type": "markdown",
   "id": "84c34044-82f5-432d-8dbe-ee8945343794",
   "metadata": {},
   "source": [
    "## Instala as dependências do projeto;"
   ]
  },
  {
   "cell_type": "code",
   "execution_count": null,
   "id": "6bc79f11-5d85-4350-afc4-02263594c016",
   "metadata": {},
   "outputs": [],
   "source": [
    "#r \"nuget: Google.OrTools,9.8.3296\""
   ]
  },
  {
   "cell_type": "markdown",
   "id": "3d315942-e4bd-420e-9a66-48c547d3ecbf",
   "metadata": {},
   "source": [
    "## Importa a lib GerarHorario;"
   ]
  },
  {
   "cell_type": "code",
   "execution_count": null,
   "id": "eb2599d7-7693-4ad7-8b7c-b3f8e49e23c5",
   "metadata": {},
   "outputs": [],
   "source": [
    "#r \"../../projeto-gerar-horario/GerarHorario/bin/Debug/net8.0/GerarHorario.dll\""
   ]
  },
  {
   "cell_type": "markdown",
   "id": "c4240d90-8dd1-4f83-89cc-6ef6d1099bcb",
   "metadata": {},
   "source": [
    "## Faz o uso do namespace Sisgea.GerarHorario.Core;"
   ]
  },
  {
   "cell_type": "code",
   "execution_count": null,
   "id": "b375596e-7023-4eb6-bf8b-dbace732afa8",
   "metadata": {},
   "outputs": [],
   "source": [
    "using Sisgea.GerarHorario.Core;"
   ]
  },
  {
   "cell_type": "markdown",
   "id": "cda61c20-4b19-441c-8db6-119acf78eb32",
   "metadata": {},
   "source": [
    "## Felicidade :))"
   ]
  },
  {
   "cell_type": "code",
   "execution_count": null,
   "id": "a8c24654-2664-4cc0-8c0d-3cb22b94c5b8",
   "metadata": {},
   "outputs": [],
   "source": [
    "Console.WriteLine((new Main()).Retorno());"
   ]
  }
 ],
 "metadata": {
  "kernelspec": {
   "display_name": ".NET (C#)",
   "language": "C#",
   "name": ".net-csharp"
  },
  "language_info": {
   "file_extension": ".cs",
   "mimetype": "text/x-csharp",
   "name": "C#",
   "pygments_lexer": "csharp",
   "version": "12.0"
  }
 },
 "nbformat": 4,
 "nbformat_minor": 5
}
