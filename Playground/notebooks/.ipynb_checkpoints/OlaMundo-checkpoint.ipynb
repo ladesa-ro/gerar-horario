{
 "cells": [
  {
   "cell_type": "code",
   "execution_count": null,
   "id": "2db6e9c5-6ee7-448c-9417-52a2dddb1cf7",
   "metadata": {},
   "outputs": [],
   "source": [
    "Console.WriteLine(\"Olá, Mundo!\");"
   ]
  }
 ],
 "metadata": {
  "kernelspec": {
   "display_name": ".NET (C#)",
   "language": "C#",
   "name": ".net-csharp"
  },
  "language_info": {
   "file_extension": ".cs",
   "mimetype": "text/x-csharp",
   "name": "C#",
   "pygments_lexer": "csharp",
   "version": "12.0"
  }
 },
 "nbformat": 4,
 "nbformat_minor": 5
}
