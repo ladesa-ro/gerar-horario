{
 "cells": [
  {
   "cell_type": "code",
   "execution_count": 3,
   "id": "eb2599d7-7693-4ad7-8b7c-b3f8e49e23c5",
   "metadata": {},
   "outputs": [],
   "source": [
    "#r \"../../projeto-gerar-horario/GerarHorario/bin/Debug/net8.0/GerarHorario.dll\""
   ]
  },
  {
   "cell_type": "code",
   "execution_count": 5,
   "id": "b375596e-7023-4eb6-bf8b-dbace732afa8",
   "metadata": {},
   "outputs": [],
   "source": [
    "using Sisgea.GerarHorario.Core;"
   ]
  },
  {
   "cell_type": "code",
   "execution_count": 6,
   "id": "0fee0429-ba2b-455a-966f-71b00ec3cb1e",
   "metadata": {},
   "outputs": [
    {
     "name": "stdout",
     "output_type": "stream",
     "text": [
      "Olá, Mundo!\n"
     ]
    }
   ],
   "source": [
    "Console.WriteLine(\"Olá, Mundo!\");"
   ]
  },
  {
   "cell_type": "code",
   "execution_count": 9,
   "id": "a8c24654-2664-4cc0-8c0d-3cb22b94c5b8",
   "metadata": {},
   "outputs": [
    {
     "ename": "Error",
     "evalue": "System.IO.FileNotFoundException: Could not load file or assembly 'Google.OrTools, Version=9.9.3963.0, Culture=neutral, PublicKeyToken=c9649d7040f27838'. The system cannot find the file specified.\n\nFile name: 'Google.OrTools, Version=9.9.3963.0, Culture=neutral, PublicKeyToken=c9649d7040f27838'\n   at Sisgea.GerarHorario.Core.Gerador.GerarHorario(GerarHorarioOptions options, Boolean verbose)\n   at Sisgea.GerarHorario.Core.Main.Retorno() in /mnt/wsl/PHYSICALDRIVE0p1/repositories/@sisgha/current/gerar-horario/projeto-gerar-horario/GerarHorario/Main.cs:line 22\n   at Submission#11.<<Initialize>>d__0.MoveNext()\n--- End of stack trace from previous location ---\n   at Microsoft.CodeAnalysis.Scripting.ScriptExecutionState.RunSubmissionsAsync[TResult](ImmutableArray`1 precedingExecutors, Func`2 currentExecutor, StrongBox`1 exceptionHolderOpt, Func`2 catchExceptionOpt, CancellationToken cancellationToken)",
     "output_type": "error",
     "traceback": [
      "System.IO.FileNotFoundException: Could not load file or assembly 'Google.OrTools, Version=9.9.3963.0, Culture=neutral, PublicKeyToken=c9649d7040f27838'. The system cannot find the file specified.\n\nFile name: 'Google.OrTools, Version=9.9.3963.0, Culture=neutral, PublicKeyToken=c9649d7040f27838'\n   at Sisgea.GerarHorario.Core.Gerador.GerarHorario(GerarHorarioOptions options, Boolean verbose)\n   at Sisgea.GerarHorario.Core.Main.Retorno() in /mnt/wsl/PHYSICALDRIVE0p1/repositories/@sisgha/current/gerar-horario/projeto-gerar-horario/GerarHorario/Main.cs:line 22\n   at Submission#11.<<Initialize>>d__0.MoveNext()\n--- End of stack trace from previous location ---\n   at Microsoft.CodeAnalysis.Scripting.ScriptExecutionState.RunSubmissionsAsync[TResult](ImmutableArray`1 precedingExecutors, Func`2 currentExecutor, StrongBox`1 exceptionHolderOpt, Func`2 catchExceptionOpt, CancellationToken cancellationToken)",
      "   at Sisgea.GerarHorario.Core.Gerador.GerarHorario(GerarHorarioOptions options, Boolean verbose)",
      "   at Sisgea.GerarHorario.Core.Main.Retorno() in /mnt/wsl/PHYSICALDRIVE0p1/repositories/@sisgha/current/gerar-horario/projeto-gerar-horario/GerarHorario/Main.cs:line 22",
      "   at Submission#11.<<Initialize>>d__0.MoveNext()",
      "--- End of stack trace from previous location ---",
      "   at Microsoft.CodeAnalysis.Scripting.ScriptExecutionState.RunSubmissionsAsync[TResult](ImmutableArray`1 precedingExecutors, Func`2 currentExecutor, StrongBox`1 exceptionHolderOpt, Func`2 catchExceptionOpt, CancellationToken cancellationToken)"
     ]
    }
   ],
   "source": [
    "Console.WriteLine((new Main()).Retorno());"
   ]
  }
 ],
 "metadata": {
  "kernelspec": {
   "display_name": ".NET (C#)",
   "language": "C#",
   "name": ".net-csharp"
  },
  "language_info": {
   "file_extension": ".cs",
   "mimetype": "text/x-csharp",
   "name": "C#",
   "pygments_lexer": "csharp",
   "version": "12.0"
  }
 },
 "nbformat": 4,
 "nbformat_minor": 5
}
